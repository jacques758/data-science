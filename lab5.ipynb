{
  "nbformat": 4,
  "nbformat_minor": 0,
  "metadata": {
    "colab": {
      "provenance": [],
      "authorship_tag": "ABX9TyMYaUAUYK4xXaef5vVem2ld",
      "include_colab_link": true
    },
    "kernelspec": {
      "name": "python3",
      "display_name": "Python 3"
    },
    "language_info": {
      "name": "python"
    }
  },
  "cells": [
    {
      "cell_type": "markdown",
      "metadata": {
        "id": "view-in-github",
        "colab_type": "text"
      },
      "source": [
        "<a href=\"https://colab.research.google.com/github/jacques758/data-science/blob/main/lab5.ipynb\" target=\"_parent\"><img src=\"https://colab.research.google.com/assets/colab-badge.svg\" alt=\"Open In Colab\"/></a>"
      ]
    },
    {
      "cell_type": "code",
      "execution_count": null,
      "metadata": {
        "id": "q0AVZhAA4Djl"
      },
      "outputs": [],
      "source": [
        "# Expense tracker:\n",
        "# Create an expense tracker application that allows users to enter expenses per category (e.g., food, clothing, entertainment, rent, etc.)"
      ]
    },
    {
      "cell_type": "code",
      "source": [
        "class Expense :\n",
        "    def __init__(self, name, category, amount) :\n",
        "        self.name = name\n",
        "        self.category = category\n",
        "        self.amount = amount\n",
        "\n",
        "    def __repr__(self):\n",
        "        return f\"Expense: {self.name}, {self.category}, ${self.amount:.2f} \""
      ],
      "metadata": {
        "id": "UelmSbIY4M65"
      },
      "execution_count": null,
      "outputs": []
    },
    {
      "cell_type": "code",
      "source": [
        "# and track expenses per week or month."
      ],
      "metadata": {
        "id": "fR64xDQV4MsN"
      },
      "execution_count": null,
      "outputs": []
    },
    {
      "cell_type": "code",
      "source": [
        "def get_user_expense() :\n",
        "    print(\"Getting User Expense\")\n",
        "    expense_name = input(\"Enter expense name: \")\n",
        "    expense_amount = get_valid_number(\"Enter expense amount: \")\n",
        "    expense_categories = [\n",
        "        \"Food\",\n",
        "        \"Clothing\",\n",
        "        \"Entertainment\",\n",
        "        \"Rent\",\n",
        "    ]\n",
        "\n",
        "    while True :\n",
        "        for i, category_name in enumerate(expense_categories) :\n",
        "            print(f\"  {i + 1}. {category_name}\")\n",
        "\n",
        "        value_range = f\"[1 - {len(expense_categories)}]\"\n",
        "        selected_index = int(input(f\"Enter a category number {value_range}: \")) - 1\n",
        "\n",
        "        if selected_index in range(len(expense_categories)) :\n",
        "            selected_category = expense_categories[selected_index]\n",
        "            new_expense = Expense(\n",
        "                name=expense_name, category=selected_category, amount=expense_amount\n",
        "            )\n",
        "            return new_expense\n",
        "        else:\n",
        "            print(\"Invalid category. Please try again!\")\n",
        "\n",
        "def save_expense_to_file(expense, expense_file_path) :\n",
        "    print(f\"Saving User Expense: {expense} to {expense_file_path}\")\n",
        "    with open(expense_file_path, \"a\") as f :\n",
        "        f.write(f\"{expense.name},{expense.amount},{expense.category}\\n\")\n",
        "\n",
        "def summarize_expenses(expense_file_path, budget) :\n",
        "    print(\"Summarizing User Expense\")\n",
        "    expenses = []\n",
        "    with open(expense_file_path, \"r\") as f :\n",
        "        lines = f.readlines()\n",
        "        for line in lines:\n",
        "            expense_name, expense_amount, expense_category = line.strip().split(\",\")\n",
        "            line_expense = Expense(\n",
        "                name=expense_name,\n",
        "                amount=float(expense_amount),\n",
        "                category=expense_category,\n",
        "            )\n",
        "            expenses.append(line_expense)\n",
        "\n",
        "    amount_by_category = defaultdict(float)\n",
        "    for expense in expenses:\n",
        "        amount_by_category[expense.category] += expense.amount\n",
        "\n",
        "    total_spent = sum([x.amount for x in expenses])\n",
        "    print(f\"Total Spent: ${total_spent:.2f}\")\n",
        "\n",
        "    remaining_budget = budget - total_spent\n",
        "    print(f\"Budget Remaining: ${remaining_budget:.2f}\")\n",
        "\n",
        "    now = datetime.datetime.now()\n",
        "    days_in_month = calendar.monthrange(now.year, now.month)[1]\n",
        "    remaining_days = days_in_month - now.day\n",
        "\n",
        "    daily_budget = remaining_budget / remaining_days\n",
        "    print(f\"Budget Per Day: ${daily_budget:.2f}\")"
      ],
      "metadata": {
        "id": "Hb9KVNwm4MaS"
      },
      "execution_count": null,
      "outputs": []
    },
    {
      "cell_type": "code",
      "source": [
        "# The user should be able to see their total expenses for a month of their choice for each category and a total monthly expense."
      ],
      "metadata": {
        "id": "quFjD7Dn4MJJ"
      },
      "execution_count": null,
      "outputs": []
    },
    {
      "cell_type": "code",
      "source": [
        "now = datetime.datetime.now()\n",
        "  year = now.year\n",
        "    month = int(get_valid_input(\"Enter the month number (e.g., 1 for January): \"))\n",
        "    month_expenses = defaultdict(float)\n",
        "    for expense in expenses:\n",
        "        if expense.category in amount_by_category:\n",
        "            month_expenses[expense.category] += expense.amount\n",
        "\n",
        "    print(\"\\nMonthly Expenses By Category:\")\n",
        "    for category, amount in month_expenses.items():\n",
        "        print(f\"  {category}: ${amount:.2f}\")"
      ],
      "metadata": {
        "colab": {
          "base_uri": "https://localhost:8080/",
          "height": 106
        },
        "id": "R2HSyQiW4Whz",
        "outputId": "eb6c9668-8c95-4ccb-e38b-b9355f9a7ed0"
      },
      "execution_count": null,
      "outputs": [
        {
          "output_type": "error",
          "ename": "IndentationError",
          "evalue": "unexpected indent (<ipython-input-24-0490ec00e920>, line 2)",
          "traceback": [
            "\u001b[0;36m  File \u001b[0;32m\"<ipython-input-24-0490ec00e920>\"\u001b[0;36m, line \u001b[0;32m2\u001b[0m\n\u001b[0;31m    year = now.year\u001b[0m\n\u001b[0m    ^\u001b[0m\n\u001b[0;31mIndentationError\u001b[0m\u001b[0;31m:\u001b[0m unexpected indent\n"
          ]
        }
      ]
    },
    {
      "cell_type": "code",
      "source": [
        "# The monthly expense report should include average expenses for each category for the year and indicate if the user expense for"
      ],
      "metadata": {
        "id": "FYEUJhrI4WWY"
      },
      "execution_count": null,
      "outputs": []
    },
    {
      "cell_type": "code",
      "source": [
        "average_expenses = defaultdict(float)\n",
        "category_counts = defaultdict(int)\n",
        "for expense in expenses:\n",
        "        average_expenses[expense.category] += expense.amount\n",
        "        category_counts[expense.category] += 1\n"
      ],
      "metadata": {
        "colab": {
          "base_uri": "https://localhost:8080/",
          "height": 211
        },
        "id": "-QzQf66q4gln",
        "outputId": "df907930-ab15-480d-fc92-35df471a88df"
      },
      "execution_count": null,
      "outputs": [
        {
          "output_type": "error",
          "ename": "NameError",
          "evalue": "name 'defaultdict' is not defined",
          "traceback": [
            "\u001b[0;31m---------------------------------------------------------------------------\u001b[0m",
            "\u001b[0;31mNameError\u001b[0m                                 Traceback (most recent call last)",
            "\u001b[0;32m<ipython-input-12-611852aaf197>\u001b[0m in \u001b[0;36m<cell line: 1>\u001b[0;34m()\u001b[0m\n\u001b[0;32m----> 1\u001b[0;31m \u001b[0maverage_expenses\u001b[0m \u001b[0;34m=\u001b[0m \u001b[0mdefaultdict\u001b[0m\u001b[0;34m(\u001b[0m\u001b[0mfloat\u001b[0m\u001b[0;34m)\u001b[0m\u001b[0;34m\u001b[0m\u001b[0;34m\u001b[0m\u001b[0m\n\u001b[0m\u001b[1;32m      2\u001b[0m \u001b[0mcategory_counts\u001b[0m \u001b[0;34m=\u001b[0m \u001b[0mdefaultdict\u001b[0m\u001b[0;34m(\u001b[0m\u001b[0mint\u001b[0m\u001b[0;34m)\u001b[0m\u001b[0;34m\u001b[0m\u001b[0;34m\u001b[0m\u001b[0m\n\u001b[1;32m      3\u001b[0m \u001b[0;32mfor\u001b[0m \u001b[0mexpense\u001b[0m \u001b[0;32min\u001b[0m \u001b[0mexpenses\u001b[0m\u001b[0;34m:\u001b[0m\u001b[0;34m\u001b[0m\u001b[0;34m\u001b[0m\u001b[0m\n\u001b[1;32m      4\u001b[0m         \u001b[0maverage_expenses\u001b[0m\u001b[0;34m[\u001b[0m\u001b[0mexpense\u001b[0m\u001b[0;34m.\u001b[0m\u001b[0mcategory\u001b[0m\u001b[0;34m]\u001b[0m \u001b[0;34m+=\u001b[0m \u001b[0mexpense\u001b[0m\u001b[0;34m.\u001b[0m\u001b[0mamount\u001b[0m\u001b[0;34m\u001b[0m\u001b[0;34m\u001b[0m\u001b[0m\n\u001b[1;32m      5\u001b[0m         \u001b[0mcategory_counts\u001b[0m\u001b[0;34m[\u001b[0m\u001b[0mexpense\u001b[0m\u001b[0;34m.\u001b[0m\u001b[0mcategory\u001b[0m\u001b[0;34m]\u001b[0m \u001b[0;34m+=\u001b[0m \u001b[0;36m1\u001b[0m\u001b[0;34m\u001b[0m\u001b[0;34m\u001b[0m\u001b[0m\n",
            "\u001b[0;31mNameError\u001b[0m: name 'defaultdict' is not defined"
          ]
        }
      ]
    },
    {
      "cell_type": "code",
      "source": [
        "# the month selected is lower or higher than the annual average. Also, the report should display the percentage of expenses from each category"
      ],
      "metadata": {
        "id": "ZiAQKtRN4cH3"
      },
      "execution_count": null,
      "outputs": []
    },
    {
      "cell_type": "code",
      "source": [],
      "metadata": {
        "id": "tZ6YhnMp4hAh"
      },
      "execution_count": null,
      "outputs": []
    }
  ]
}