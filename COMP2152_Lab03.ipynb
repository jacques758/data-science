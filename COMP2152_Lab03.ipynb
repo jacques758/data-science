{
  "nbformat": 4,
  "nbformat_minor": 0,
  "metadata": {
    "colab": {
      "provenance": [],
      "include_colab_link": true
    },
    "kernelspec": {
      "name": "python3",
      "display_name": "Python 3"
    },
    "language_info": {
      "name": "python"
    }
  },
  "cells": [
    {
      "cell_type": "markdown",
      "metadata": {
        "id": "view-in-github",
        "colab_type": "text"
      },
      "source": [
        "<a href=\"https://colab.research.google.com/github/jacques758/data-science/blob/main/COMP2152_Lab03.ipynb\" target=\"_parent\"><img src=\"https://colab.research.google.com/assets/colab-badge.svg\" alt=\"Open In Colab\"/></a>"
      ]
    },
    {
      "cell_type": "markdown",
      "source": [
        "# List"
      ],
      "metadata": {
        "id": "5q-k5b9yWcNQ"
      }
    },
    {
      "cell_type": "markdown",
      "source": [
        "Use a 2-dimensional list to create and store the information of employees where each employee in the list consists of the following\n",
        "\n",
        "[Employee ID, Employee Name, Emloyee Type, Hours Worked, Hourly Rate, Location, Salary]\n",
        "\n",
        "The default value of salary is 0 and we will develop the script to update this value based on the employee type, hours worked and hourly wage.\n",
        "\n",
        "E.g.\n",
        "\n",
        "employees = [\n",
        "\n",
        "[1, John, full-time, 40, 15, \"ON\", 0],\n",
        "\n",
        "[2, Jane, part-time, 20, 12, \"ON\", 0],\n",
        "\n",
        "[3, Bob, full-time, 35, 16, \"AB\", 0]\n",
        "\n",
        "]"
      ],
      "metadata": {
        "id": "0gjhkpktXG30"
      }
    },
    {
      "cell_type": "code",
      "execution_count": 1,
      "metadata": {
        "id": "C_JVa-M-WXo7"
      },
      "outputs": [],
      "source": [
        "# Initial an empty employees list\n",
        "employees = []"
      ]
    },
    {
      "cell_type": "code",
      "source": [
        "# Using 1-dimension list to store the detail of each employee\n",
        "# Employee ID, Employee Name, Emloyee Type, Hours Worked, Hourly Rate, Location, Salary\n",
        "e1 = [1, \"John\", \"full-time\", 40, 15, \"ON\", 0]\n",
        "e2 = [2, \"Jane\", \"part-time\", 20, 12, \"ON\", 0]\n",
        "e3 = [3, \"Bob\", \"full-time\", 35, 16, \"AB\", 0]"
      ],
      "metadata": {
        "id": "0vydzOJuXoaT"
      },
      "execution_count": 2,
      "outputs": []
    },
    {
      "cell_type": "code",
      "source": [
        "# Append e1 and e3 employees to the list\n",
        "employees.append(e1)\n",
        "employees.append(e3)"
      ],
      "metadata": {
        "id": "CPn5sms_Xu5s"
      },
      "execution_count": 3,
      "outputs": []
    },
    {
      "cell_type": "code",
      "source": [
        "# Print the list of employees\n",
        "print(employees)"
      ],
      "metadata": {
        "colab": {
          "base_uri": "https://localhost:8080/"
        },
        "id": "2EakiR6OXu2M",
        "outputId": "c1c2360b-bb74-4e20-df33-23dfd1f00e5d"
      },
      "execution_count": 4,
      "outputs": [
        {
          "output_type": "stream",
          "name": "stdout",
          "text": [
            "[[1, 'John', 'full-time', 40, 15, 'ON', 0], [3, 'Bob', 'full-time', 35, 16, 'AB', 0]]\n"
          ]
        }
      ]
    },
    {
      "cell_type": "code",
      "source": [
        "# Using insert method to insert e2 between e1 and e3 in the employees list\n",
        "index_e1 = employees.index(e1)\n",
        "employees.insert(index_e1 + 1, e2)"
      ],
      "metadata": {
        "id": "dOb7uGXoXuzg"
      },
      "execution_count": 6,
      "outputs": []
    },
    {
      "cell_type": "code",
      "source": [
        "# Print the list of employees\n",
        "print(employees)"
      ],
      "metadata": {
        "colab": {
          "base_uri": "https://localhost:8080/"
        },
        "id": "L6KbGc3EXuxL",
        "outputId": "85c559d3-80f2-46de-e92f-9bd2af53d992"
      },
      "execution_count": 5,
      "outputs": [
        {
          "output_type": "stream",
          "name": "stdout",
          "text": [
            "[[1, 'John', 'full-time', 40, 15, 'ON', 0], [3, 'Bob', 'full-time', 35, 16, 'AB', 0]]\n"
          ]
        }
      ]
    },
    {
      "cell_type": "code",
      "source": [
        "# Define a function to check if an employee id is already exist, and return True if exists or False if not exists\n",
        "def is_employee_id_exists(employee_id, employee_ids):\n",
        "    for employee in employees:\n",
        "        if 'Employee ID' in employee and employee['Employee ID'] == employee_id:\n",
        "            return True\n",
        "    return False\n",
        "\n",
        "employees = [\n",
        "    {\"Employee ID\": 1, \"Employee Name\": \"John\"},\n",
        "    {\"Employee ID\": 2, \"Employee Name\": \"Jane\"},\n",
        "    {\"Employee ID\": 3, \"Employee Name\": \"Bob\"}\n",
        "]\n",
        "id_to_check = 2\n",
        "exists = is_employee_id_exists(id_to_check, employees)\n",
        "\n",
        "if exists:\n",
        "    print(f\"Employee ID {id_to_check} exists.\")\n",
        "else:\n",
        "    print(f\"Employee ID {id_to_check} does not exist.\")"
      ],
      "metadata": {
        "id": "ko-Djvl-Xuul",
        "colab": {
          "base_uri": "https://localhost:8080/"
        },
        "outputId": "79ab5ae7-353c-42b3-b3b4-e02b281ef7bb"
      },
      "execution_count": 7,
      "outputs": [
        {
          "output_type": "stream",
          "name": "stdout",
          "text": [
            "Employee ID 2 exists.\n"
          ]
        }
      ]
    },
    {
      "cell_type": "code",
      "source": [
        "# Check if employee with id 1 exist\n",
        "print(check_employee_exists(1))"
      ],
      "metadata": {
        "colab": {
          "base_uri": "https://localhost:8080/",
          "height": 164
        },
        "id": "k-g4zRAGXur8",
        "outputId": "f2383fd6-35f9-4ac6-836d-7e9384a1a1f9"
      },
      "execution_count": 8,
      "outputs": [
        {
          "output_type": "error",
          "ename": "NameError",
          "evalue": "name 'check_employee_exists' is not defined",
          "traceback": [
            "\u001b[0;31m---------------------------------------------------------------------------\u001b[0m",
            "\u001b[0;31mNameError\u001b[0m                                 Traceback (most recent call last)",
            "\u001b[0;32m<ipython-input-8-b42ff6e13a4a>\u001b[0m in \u001b[0;36m<cell line: 0>\u001b[0;34m()\u001b[0m\n\u001b[1;32m      1\u001b[0m \u001b[0;31m# Check if employee with id 1 exist\u001b[0m\u001b[0;34m\u001b[0m\u001b[0;34m\u001b[0m\u001b[0m\n\u001b[0;32m----> 2\u001b[0;31m \u001b[0mprint\u001b[0m\u001b[0;34m(\u001b[0m\u001b[0mcheck_employee_exists\u001b[0m\u001b[0;34m(\u001b[0m\u001b[0;36m1\u001b[0m\u001b[0;34m)\u001b[0m\u001b[0;34m)\u001b[0m\u001b[0;34m\u001b[0m\u001b[0;34m\u001b[0m\u001b[0m\n\u001b[0m",
            "\u001b[0;31mNameError\u001b[0m: name 'check_employee_exists' is not defined"
          ]
        }
      ]
    },
    {
      "cell_type": "code",
      "source": [
        "# Check if employee with id 99 exist\n"
      ],
      "metadata": {
        "id": "OjmVKTqJcOri"
      },
      "execution_count": 9,
      "outputs": []
    },
    {
      "cell_type": "code",
      "source": [
        "# Alternatively, define a function to find employee and return the location(index) of the employee in the employees list.\n",
        "# If -1, employee not exist, otherwise, employee exists and employee location is return for further operations such as update, delete\n",
        "def find_employee(employee_id, employee_list):\n",
        "  for index, employee in enumerate(employee_list):\n",
        "    if 'Employee ID' in employee and employee['Employee ID'] == employee_id:\n",
        "      return index\n",
        "  return -1\n",
        "\n",
        "employees = [\n",
        "    {\"Employee ID\": 1, \"Employee Name\": \"John\"},\n",
        "    {\"Employee ID\": 2, \"Employee Name\": \"Jane\"},\n",
        "    {\"Employee ID\": 3, \"Employee Name\": \"Bob\"}\n",
        "]\n",
        "id_to_find = 2\n",
        "employee_location = find_employee(id_to_find, employees)\n",
        "\n",
        "if employee_location != -1:\n",
        "    print(f\"Employee ID {id_to_find} exists at index {employee_location}.\")\n",
        "else:\n",
        "    print(f\"Employee ID {id_to_find} does not exist.\")"
      ],
      "metadata": {
        "id": "UwZZ83nOXupO",
        "colab": {
          "base_uri": "https://localhost:8080/"
        },
        "outputId": "85ee8eb6-1e7c-4661-bcc1-efb9a152020c"
      },
      "execution_count": 10,
      "outputs": [
        {
          "output_type": "stream",
          "name": "stdout",
          "text": [
            "Employee ID 2 exists at index 1.\n"
          ]
        }
      ]
    },
    {
      "cell_type": "code",
      "source": [
        "# Use find_employee function to check and return location of employee with id 3\n",
        "def find_employee(employee_id, employee_list):\n",
        "    for index, employee in enumerate(employee_list):\n",
        "        if 'Employee ID' in employee and employee['Employee ID'] == employee_id:\n",
        "            return index\n",
        "    return -1\n",
        "employees = [\n",
        "    {\"Employee ID\": 1, \"Employee Name\": \"John\"},\n",
        "    {\"Employee ID\": 2, \"Employee Name\": \"Jane\"},\n",
        "    {\"Employee ID\": 3, \"Employee Name\": \"Bob\"}\n",
        "]\n",
        "\n",
        "id_to_find = 3\n",
        "employee_location = find_employee(id_to_find, employees)\n",
        "\n",
        "if employee_location != -1:\n",
        "    print(f\"Employee with ID {id_to_find} exists at index {employee_location}.\")\n",
        "else:\n",
        "    print(f\"Employee with ID {id_to_find} does not exist.\")"
      ],
      "metadata": {
        "colab": {
          "base_uri": "https://localhost:8080/"
        },
        "id": "Lqmix38GXum6",
        "outputId": "9b6b082b-bb44-4b0b-af40-d92c4ccf29ab"
      },
      "execution_count": 11,
      "outputs": [
        {
          "output_type": "stream",
          "name": "stdout",
          "text": [
            "Employee with ID 3 exists at index 2.\n"
          ]
        }
      ]
    },
    {
      "cell_type": "code",
      "source": [
        "# Use find_employee function to check and return location of employee with id 99\n",
        "def find_employee(employee_id, employee_list):\n",
        "  for index, employee in enumerate(employee_list):\n",
        "        if 'Employee ID' in employee and employee['Employee ID'] == employee_id:\n",
        "            return index\n",
        "  return -1\n",
        "employees = [\n",
        "    {\"Employee ID\": 1, \"Employee Name\": \"John\"},\n",
        "    {\"Employee ID\": 2, \"Employee Name\": \"Jane\"},\n",
        "    {\"Employee ID\": 3, \"Employee Name\": \"Bob\"}\n",
        "]\n",
        "\n",
        "# Find employee with ID 99 and get their location\n",
        "id_to_find = 99\n",
        "employee_location = find_employee(id_to_find, employees)\n",
        "\n",
        "if employee_location != -1:\n",
        "    print(f\"Employee with ID {id_to_find} exists at index {employee_location}.\")\n",
        "else:\n",
        "    print(f\"Employee with ID {id_to_find} does not exist.\")"
      ],
      "metadata": {
        "colab": {
          "base_uri": "https://localhost:8080/"
        },
        "id": "aEKL5cXxXuf4",
        "outputId": "d1817bc9-ab84-4448-e4f5-ca1cc9583a94"
      },
      "execution_count": 12,
      "outputs": [
        {
          "output_type": "stream",
          "name": "stdout",
          "text": [
            "Employee with ID 99 does not exist.\n"
          ]
        }
      ]
    },
    {
      "cell_type": "code",
      "source": [
        "# Add new employee, check if employee exists before adding\n",
        "# [Employee ID, Employee Name, Emloyee Type, Hours Worked, Hourly Rate, Location, Salary ]\n",
        "# First, get employee information from users\n",
        "def find_employee(employee_id, employee_list):\n",
        "    for index, employee in enumerate(employee_list):\n",
        "        if 'Employee ID' in employee and employee['Employee ID'] == employee_id:\n",
        "            return index\n",
        "    return -1\n",
        "\n",
        "\n",
        "employees = [\n",
        "    {\"Employee ID\": 1, \"Employee Name\": \"John\"},\n",
        "    {\"Employee ID\": 2, \"Employee Name\": \"Jane\"},\n",
        "    {\"Employee ID\": 3, \"Employee Name\": \"Bob\"}\n",
        "]\n",
        "\n",
        "\n",
        "def add_employee(employee_list):\n",
        "    print(\"Enter employee information:\")\n",
        "    employee_id = int(input(\"Employee ID: \"))\n",
        "\n",
        "\n",
        "    existing_employee_index = find_employee(employee_id, employee_list)\n",
        "    if existing_employee_index != -1:\n",
        "        print(\"Employee with the same ID already exists.\")\n",
        "        return\n",
        "\n",
        "\n",
        "    employee_name = input(\"Employee Name: \")\n",
        "    employee_type = input(\"Employee Type: \")\n",
        "    hours_worked = float(input(\"Hours Worked: \"))\n",
        "    hourly_rate = float(input(\"Hourly Rate: \"))\n",
        "    location = input(\"Location: \")\n",
        "    salary = hours_worked * hourly_rate\n",
        "\n",
        "\n",
        "    new_employee = {\n",
        "        \"Employee ID\": employee_id,\n",
        "        \"Employee Name\": employee_name,\n",
        "        \"Employee Type\": employee_type,\n",
        "        \"Hours Worked\": hours_worked,\n",
        "        \"Hourly Rate\": hourly_rate,\n",
        "        \"Location\": location,\n",
        "        \"Salary\": salary\n",
        "    }\n",
        "\n",
        "\n",
        "    employee_list.append(new_employee)\n",
        "    print(\"Employee added successfully.\")\n",
        "\n",
        "\n",
        "add_employee(employees)\n",
        "\n",
        "print(\"Updated list of employees:\")\n",
        "for employee in employees:\n",
        "    print(employee)"
      ],
      "metadata": {
        "id": "vevBg0ThXuca",
        "colab": {
          "base_uri": "https://localhost:8080/"
        },
        "outputId": "7ee5cde7-97c6-42f2-8870-af7f4043c044"
      },
      "execution_count": null,
      "outputs": [
        {
          "output_type": "stream",
          "name": "stdout",
          "text": [
            "Enter employee information:\n"
          ]
        }
      ]
    },
    {
      "cell_type": "code",
      "source": [
        "# Using function check_employee_exists before adding employee\n",
        "if check_employee_exists(employee_id):\n",
        "  # if True print employee already exists\n",
        "print(\"Employee with the same ID already exists.\")\n",
        "\n",
        "else:\n",
        "  # if False, add employee with the above info, then print employee is successfully added\n",
        "   print(\"Employee added successfully.\")\n"
      ],
      "metadata": {
        "id": "yhnDY-J0XuS1"
      },
      "execution_count": null,
      "outputs": []
    },
    {
      "cell_type": "markdown",
      "source": [
        "Update Employee Hours of Worked by Employee ID"
      ],
      "metadata": {
        "id": "4l3UdMM1dwll"
      }
    },
    {
      "cell_type": "code",
      "source": [
        "# Update an employee hours worked by employee id, check if employee exists using find_employee function before updating\n",
        "# Get employee id from user input\n",
        "# Define a function to check if an employee with a specific ID exists\n",
        "def find_employee(employee_id, employee_list):\n",
        "\n",
        "    for index, employee in enumerate(employee_list):\n",
        "        if 'Employee ID' in employee and employee['Employee ID'] == employee_id:\n",
        "            return index\n",
        "    return -1\n",
        "\n",
        "# Define a function to update an employee's hours worked\n",
        "def update_employee_hours(employee_list):\n",
        "\n",
        "    print(\"Enter the employee ID for updating hours worked:\")\n",
        "    employee_id = int(input(\"Employee ID: \"))\n",
        "\n",
        "\n",
        "    index = find_employee(employee_id, employee_list)\n",
        "\n",
        "    if index != -1:\n",
        "        # Employee exists, update their hours worked\n",
        "        new_hours_worked = float(input(\"Enter new hours worked: \"))\n",
        "        employee_list[index][\"Hours Worked\"] = new_hours_worked\n",
        "        print(\"Employee's hours worked updated successfully.\")\n",
        "    else:\n",
        "        print(\"Employee with the given ID does not exist.\")\n",
        "\n",
        "\n",
        "employees = [\n",
        "    {\"Employee ID\": 1, \"Employee Name\": \"John\", \"Hours Worked\": 40.0},\n",
        "    {\"Employee ID\": 2, \"Employee Name\": \"Jane\", \"Hours Worked\": 20.5},\n",
        "    {\"Employee ID\": 3, \"Employee Name\": \"Bob\", \"Hours Worked\": 35.0}\n",
        "]\n",
        "\n",
        "\n",
        "update_employee_hours(employees)\n",
        "\n",
        "\n",
        "print(\"Updated list of employees:\")\n",
        "for employee in employees:\n",
        "    print(employee)\n"
      ],
      "metadata": {
        "id": "8imehIjbXuHl",
        "colab": {
          "base_uri": "https://localhost:8080/"
        },
        "outputId": "5fcb872c-e8db-4c0b-b1b8-eebd945079eb"
      },
      "execution_count": null,
      "outputs": [
        {
          "output_type": "stream",
          "name": "stdout",
          "text": [
            "Enter the employee ID for updating hours worked:\n",
            "Employee ID: 2\n",
            "Enter new hours worked: 20.5\n",
            "Employee's hours worked updated successfully.\n",
            "Updated list of employees:\n",
            "{'Employee ID': 1, 'Employee Name': 'John', 'Hours Worked': 40.0}\n",
            "{'Employee ID': 2, 'Employee Name': 'Jane', 'Hours Worked': 20.5}\n",
            "{'Employee ID': 3, 'Employee Name': 'Bob', 'Hours Worked': 35.0}\n"
          ]
        }
      ]
    },
    {
      "cell_type": "code",
      "source": [
        "# Use find_employee function to get the location of the employee in the employees list and store the location in a variable called \"index\"\n",
        "index = find_employee(employee_id_to_search, employees)\n",
        "\n",
        "if index != -1:\n",
        "    print(f\"Employee with ID {employee_id_to_search} exists at index {index}.\")\n",
        "else:\n",
        "    print(f\"Employee with ID {employee_id_to_search} does not exist.\")"
      ],
      "metadata": {
        "id": "PWpxNDJ_cVPn"
      },
      "execution_count": null,
      "outputs": []
    },
    {
      "cell_type": "code",
      "source": [
        "if check_employee_exists(employee_id):\n",
        "  # if True print employee already exists\n",
        " print(f\"Employee with ID {employee_id_to_search} exists at index {index}.\")\n",
        "else:\n",
        "  # if False, add employee with the above info, then print employee is successfully added\n",
        " print(\"the employee have been added \")\n"
      ],
      "metadata": {
        "id": "i1d1hMBhcVMJ"
      },
      "execution_count": null,
      "outputs": []
    },
    {
      "cell_type": "code",
      "source": [
        "# print employees to confirm the update\n",
        "print(employees)"
      ],
      "metadata": {
        "colab": {
          "base_uri": "https://localhost:8080/"
        },
        "id": "iwvDZgDWcVJ6",
        "outputId": "5c9e12a3-9ed7-4545-cbda-d048ccdf4185"
      },
      "execution_count": null,
      "outputs": [
        {
          "output_type": "execute_result",
          "data": {
            "text/plain": [
              "[[1, 'John', 'full-time', 45, 15, 'ON', 0],\n",
              " [2, 'Jane', 'part-time', 20, 12, 'ON', 0],\n",
              " [3, 'Bob', 'full-time', 35, 16, 'AB', 0]]"
            ]
          },
          "metadata": {},
          "execution_count": 19
        }
      ]
    },
    {
      "cell_type": "markdown",
      "source": [
        "Remove/Delete Employee by Employee ID"
      ],
      "metadata": {
        "id": "AtB2flpJd3k0"
      }
    },
    {
      "cell_type": "code",
      "source": [
        "# Remove an employee by employee id, check if employee exists before removing\n",
        "# Get employee id from user input\n"
      ],
      "metadata": {
        "colab": {
          "base_uri": "https://localhost:8080/"
        },
        "id": "WYGO68pzcVHr",
        "outputId": "3e878a6e-2d12-40a0-d19d-bbfeee4d0e19"
      },
      "execution_count": null,
      "outputs": [
        {
          "name": "stdout",
          "output_type": "stream",
          "text": [
            "Enter Employee ID to delete: 99\n"
          ]
        }
      ]
    },
    {
      "cell_type": "code",
      "source": [
        "# Use find_employee function to get the location of the employee in the employees list and store the location in a variable called \"index\"\n"
      ],
      "metadata": {
        "colab": {
          "base_uri": "https://localhost:8080/"
        },
        "id": "vQqLYAmrcVFA",
        "outputId": "e084383a-f045-49c4-a746-90a4c636cf94"
      },
      "execution_count": null,
      "outputs": [
        {
          "output_type": "stream",
          "name": "stdout",
          "text": [
            "-1\n"
          ]
        }
      ]
    },
    {
      "cell_type": "code",
      "source": [
        "# if index is not -1 (means that the employee exists), delete employee using pop() method\n",
        "if index != -1:\n",
        "\n",
        "  #print employee list to confirm the employee has been remove\n",
        "\n",
        "else:\n"
      ],
      "metadata": {
        "colab": {
          "base_uri": "https://localhost:8080/"
        },
        "id": "35uABtPTcVCU",
        "outputId": "0c67a99a-a1d5-4d50-d1f3-595a737db431"
      },
      "execution_count": null,
      "outputs": [
        {
          "output_type": "stream",
          "name": "stdout",
          "text": [
            "Employee with ID 99 not exists.\n"
          ]
        }
      ]
    },
    {
      "cell_type": "markdown",
      "source": [
        "Calculate Employee Salary"
      ],
      "metadata": {
        "id": "Mg4VhDc3e2Vi"
      }
    },
    {
      "cell_type": "code",
      "source": [
        "# Define a function name calculate_salary() to calculate employee salary. If employee type is \"Full-time\", salary = hours_worked * hourly_rate * 2, if employee type is \"Part-time\", salary = hours_worked * hourly_rate\n"
      ],
      "metadata": {
        "id": "BnAW06nwXtv-"
      },
      "execution_count": null,
      "outputs": []
    },
    {
      "cell_type": "code",
      "source": [
        "# Iterate through the list of employee, using the calculate_salary() function to calculate and print the salary of each employee.\n",
        "# [Employee ID, Employee Name, Emloyee Type, Hours Worked, Hourly Rate, Location, Salary ]\n"
      ],
      "metadata": {
        "colab": {
          "base_uri": "https://localhost:8080/"
        },
        "id": "3qXcZW0He8ZF",
        "outputId": "cbd8dfc3-1155-4e55-b86b-ef37e7bbc899"
      },
      "execution_count": null,
      "outputs": [
        {
          "output_type": "stream",
          "name": "stdout",
          "text": [
            "John's salary: $1350\n",
            "Jane's salary: $240\n",
            "Bob's salary: $1120\n"
          ]
        }
      ]
    },
    {
      "cell_type": "code",
      "source": [
        "# Print employee list to review the updates\n"
      ],
      "metadata": {
        "colab": {
          "base_uri": "https://localhost:8080/"
        },
        "id": "fkvjkBjZe8Vl",
        "outputId": "99f420a7-a4bc-4d6c-a812-83da0de0d247"
      },
      "execution_count": null,
      "outputs": [
        {
          "output_type": "stream",
          "name": "stdout",
          "text": [
            "Employee ID, Employee Name, Employee Type, Hours Worked, Hourly Rate, Location, Salary\n",
            "1, John, full-time, 45, 15, ON, 1350\n",
            "2, Jane, part-time, 20, 12, ON, 240\n",
            "3, Bob, full-time, 35, 16, AB, 1120\n"
          ]
        }
      ]
    },
    {
      "cell_type": "markdown",
      "source": [
        "# Dictionary"
      ],
      "metadata": {
        "id": "LyP7sP02Wmo9"
      }
    },
    {
      "cell_type": "code",
      "source": [
        "# Add a dictionary to look up and display employee location\n",
        "provinces = {\n",
        "  \"AB\": \"Alberta\",\n",
        "  \"BC\": \"British Columbia\",\n",
        "  \"MB\": \"Manitoba\",\n",
        "  \"NB\": \"New Brunswick\",\n",
        "  \"NL\": \"Newfoundland and Labrador\",\n",
        "  \"NS\": \"Nova Scotia\",\n",
        "  \"NT\": \"Northwest Territories\",\n",
        "  \"NU\": \"Nunavut\",\n",
        "  \"ON\": \"Ontario\",\n",
        "  \"PE\": \"Prince Edward Island\",\n",
        "  \"QC\": \"Quebec\",\n",
        "  \"SK\": \"Saskatchewan\",\n",
        "  \"YT\": \"Yukon\"\n",
        "}\n",
        "\n",
        "\n",
        "def get_province_name(province_code):\n",
        "    return provinces.get(province_code, \"Unknown\")\n",
        "index = find_employee(employee_id_to_search, employees)\n",
        "\n",
        "if index != -1:\n",
        "    employee = employees[index]\n",
        "    location_code = employee[\"Location\"]\n",
        "    province_name = get_province_name(location_code)\n",
        "    print(f\"Employee with ID {employee_id_to_search} is located in {province_name}.\")\n",
        "else:\n",
        "    print(f\"Employee with ID {employee_id_to_search} does not exist.\")"
      ],
      "metadata": {
        "id": "peD1GGkqWq9L"
      },
      "execution_count": null,
      "outputs": []
    },
    {
      "cell_type": "code",
      "source": [
        "# Using the key to access the value in the dict. E.g. use \"ON\" as the key\n",
        "print(provinces[\"ON\"])"
      ],
      "metadata": {
        "colab": {
          "base_uri": "https://localhost:8080/"
        },
        "id": "ah2aGQpRW50v",
        "outputId": "810afedf-5fba-48c4-bec8-ee16845add14"
      },
      "execution_count": null,
      "outputs": [
        {
          "output_type": "stream",
          "name": "stdout",
          "text": [
            "Ontario\n"
          ]
        }
      ]
    },
    {
      "cell_type": "code",
      "source": [
        "# Iterate through the list of employee and look up in the provinces dict to display the full name of the provinces the employee located instead of the abbreviation.\n",
        "# Employee ID, Employee Name, Emloyee Type, Hours Worked, Hourly Rate, Location, Salary\n",
        "for employee in employees:\n"
      ],
      "metadata": {
        "id": "mOViGaM5W8xw",
        "colab": {
          "base_uri": "https://localhost:8080/"
        },
        "outputId": "f8037268-551b-40fa-dedf-800b8ebda1ca"
      },
      "execution_count": null,
      "outputs": [
        {
          "output_type": "stream",
          "name": "stdout",
          "text": [
            "John is located in: Ontario\n",
            "Jane is located in: Ontario\n",
            "Bob is located in: Alberta\n"
          ]
        }
      ]
    }
  ]
}